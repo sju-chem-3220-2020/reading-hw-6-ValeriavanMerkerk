{
 "cells": [
  {
   "cell_type": "markdown",
   "metadata": {},
   "source": [
    "# Reading Hw6 (5.12-13, 6.1-3)"
   ]
  },
  {
   "cell_type": "markdown",
   "metadata": {},
   "source": [
    "**5.12: Using the fact that S is a state function to determine the dependence of s on V and T**\n"
   ]
  },
  {
   "cell_type": "markdown",
   "metadata": {},
   "source": [
    "dS= 1/T dU + P/T dV, 1/T and 1/P > O"
   ]
  },
  {
   "cell_type": "markdown",
   "metadata": {},
   "source": [
    "Internal energy rarely variates therefore we write:\n",
    "dS= ($\\partial$S/$\\partial$T)v dT +($\\partial$S/$\\partial$V)t  dV"
   ]
  },
  {
   "cell_type": "markdown",
   "metadata": {},
   "source": [
    "($\\partial$S/$\\partial$T)v = Cv/ T and ($\\partial$S/$\\partial$V)t = 1/T [P+($\\partial$U/$\\partial$V)t]"
   ]
  },
  {
   "cell_type": "markdown",
   "metadata": {},
   "source": [
    "constant volume: dS = Cv/T dT"
   ]
  },
  {
   "cell_type": "markdown",
   "metadata": {},
   "source": [
    "constant temperature: ($\\partial$S/$\\partial$V)t = ($\\partial$P/$\\partial$T)v = $\\beta$/$\\kappa$"
   ]
  },
  {
   "cell_type": "markdown",
   "metadata": {},
   "source": [
    " $\\Delta$ S  = $\\int_Ti ^ Tf $ Cv/T d T + $\\int_Ti ^ Tf$ $\\beta$/$\\kappa$ dV"
   ]
  },
  {
   "cell_type": "markdown",
   "metadata": {},
   "source": [
    "This result applies to a single-phase system of a liquid, solid, or gas that undergoes a transformation from the initial result Ti, Vi to Tf, Vf."
   ]
  },
  {
   "cell_type": "markdown",
   "metadata": {},
   "source": [
    "**5.13: Dependence of S on T and P**\n"
   ]
  },
  {
   "cell_type": "markdown",
   "metadata": {},
   "source": [
    "($\\partial$S/ $\\partial$P)T = - ($\\partial$ V/$\\partial$T)p = -V $\\beta$"
   ]
  },
  {
   "cell_type": "markdown",
   "metadata": {},
   "source": [
    " $\\Delta$ S  = $\\int_Ti ^ Tf $ Cp/T d T - $\\int_Ti ^ Tf$ V\n",
    " /$\\beta$ dP"
   ]
  },
  {
   "cell_type": "markdown",
   "metadata": {},
   "source": [
    "**6.1: The Gibbs Energy and the Helmoholtz Energy**\n"
   ]
  },
  {
   "cell_type": "markdown",
   "metadata": {},
   "source": [
    "TdS >= dq "
   ]
  },
  {
   "cell_type": "markdown",
   "metadata": {},
   "source": [
    "dq = dU - dw"
   ]
  },
  {
   "cell_type": "markdown",
   "metadata": {},
   "source": [
    "For istothermal process, TdS= d(TS)\n",
    "-dU + TdS >= -dw expansion - dw nonexpansion \n",
    "or d(U - TS) <= d w expansion + dw non expansion "
   ]
  },
  {
   "cell_type": "markdown",
   "metadata": {},
   "source": [
    "dA - d w expansion - dw nonexpansion >= dA"
   ]
  },
  {
   "cell_type": "markdown",
   "metadata": {},
   "source": [
    "Using the Gibbs Energy, the condition for spontaneity and equilibrium for an isothermal process at constant pressure: \n",
    "dG - d w nonexpansion <= 0"
   ]
  },
  {
   "cell_type": "markdown",
   "metadata": {},
   "source": [
    "For an internal combustion engine: dG<= 0"
   ]
  },
  {
   "cell_type": "markdown",
   "metadata": {},
   "source": [
    "For macroscopic changes at constant P and T in which no nonexpansion work is possible, the condition for spontaneity is where $\\Delta$Gr = $\\Delta$ Hr - T $\\Delta$Sr"
   ]
  },
  {
   "cell_type": "markdown",
   "metadata": {},
   "source": [
    "The entropic contribution to is greater for higher temperatures. \n",
    "    A chemical transformation is always spontaneous if (an exothermic reaction) and $\\Delta$Sr >0 . \n",
    "    A chemical transformation is never spontaneous if (an endothermic reaction) and $\\Delta$Sr <0. \n",
    "    For all other cases, the relative magnitudes of and determine if the chemical transformation is spontaneous. \n",
    "    "
   ]
  },
  {
   "cell_type": "markdown",
   "metadata": {},
   "source": [
    "**6.2: The Differential Forms of U, H, A and G**"
   ]
  },
  {
   "cell_type": "markdown",
   "metadata": {},
   "source": [
    "    dU= TdS - PdV\n",
    "    dH = TdS - PdV + PdV + VdP = TdS + VdP\n",
    "    dA = TdS - PdV - TdS - SdT =-SdT - PdV\n",
    "    dG = TdS + VdP - TdS - SdT =-SdT + VdP"
   ]
  },
  {
   "cell_type": "markdown",
   "metadata": {},
   "source": [
    "($\\partial$U/$\\partial$S)v = T and ($\\partial$U/$\\partial$V)s = -P"
   ]
  },
  {
   "cell_type": "markdown",
   "metadata": {},
   "source": [
    "($\\partial$H/$\\partial$S)P = T and ($\\partial$H/$\\partial$P)s = V"
   ]
  },
  {
   "cell_type": "markdown",
   "metadata": {},
   "source": [
    "($\\partial$A/$\\partial$t)v = -S and ($\\partial$A/$\\partial$V)T = -P"
   ]
  },
  {
   "cell_type": "markdown",
   "metadata": {},
   "source": [
    "($\\partial$G/$\\partial$T)p = -S and ($\\partial$G/$\\partial$P)t = V"
   ]
  },
  {
   "cell_type": "markdown",
   "metadata": {},
   "source": [
    "Maxwell relations:\n",
    "    ($\\partial$T/$\\partial$V)s = - ($\\partial$P/$\\partial$S)v"
   ]
  },
  {
   "cell_type": "markdown",
   "metadata": {},
   "source": [
    "($\\partial$T/$\\partial$P)s = ($\\partial$V/$\\partial$S)p\n",
    "    "
   ]
  },
  {
   "cell_type": "markdown",
   "metadata": {},
   "source": [
    "($\\partial$S/$\\partial$V)t =($\\partial$P/$\\partial$T)v = $\\beta$ / $\\kappa$\n",
    "     "
   ]
  },
  {
   "cell_type": "markdown",
   "metadata": {},
   "source": [
    "-($\\partial$S/$\\partial$P)t= ($\\partial$V/$\\partial$T)p= V $\\beta$ "
   ]
  },
  {
   "cell_type": "markdown",
   "metadata": {},
   "source": [
    "**6.3 The Dependence of the Gibbs and the Helmholtz Energies on P, V and T**"
   ]
  },
  {
   "cell_type": "markdown",
   "metadata": {},
   "source": [
    "($\\partial$A / $\\partial$ST)v=-S and ($\\partial$A/ $\\partial$V)t = -P"
   ]
  },
  {
   "cell_type": "markdown",
   "metadata": {},
   "source": [
    "($\\partial$G /$\\partial$T)p = -S and ( $\\partial$G/ $\\partial$P)t= V"
   ]
  },
  {
   "cell_type": "markdown",
   "metadata": {},
   "source": [
    "At constant T: \n",
    "    $\\int_Po ^ P$ dG = $\\int_Po ^ P$ VdP'"
   ]
  },
  {
   "cell_type": "markdown",
   "metadata": {},
   "source": [
    "Gibbs-Helmhotz equation:"
   ]
  },
  {
   "cell_type": "markdown",
   "metadata": {},
   "source": [
    "($\\partial$[G/T]/$\\partial$ T)p =\n",
    "1/T ($\\partial$ G/$\\partial$ T)p - G/ T^2 =- S/T - G/ T^2 = G +TS/ T^2 = -H/ T^2 \n"
   ]
  }
 ],
 "metadata": {
  "kernelspec": {
   "display_name": "Python 3",
   "language": "python",
   "name": "python3"
  },
  "language_info": {
   "codemirror_mode": {
    "name": "ipython",
    "version": 3
   },
   "file_extension": ".py",
   "mimetype": "text/x-python",
   "name": "python",
   "nbconvert_exporter": "python",
   "pygments_lexer": "ipython3",
   "version": "3.7.6"
  }
 },
 "nbformat": 4,
 "nbformat_minor": 4
}
